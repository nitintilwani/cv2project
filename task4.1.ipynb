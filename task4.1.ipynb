{
 "cells": [
  {
   "cell_type": "code",
   "execution_count": 1,
   "id": "daf5d2af",
   "metadata": {},
   "outputs": [],
   "source": [
    "import cv2\n",
    "import numpy as arr"
   ]
  },
  {
   "cell_type": "code",
   "execution_count": 2,
   "id": "f7298449",
   "metadata": {},
   "outputs": [],
   "source": [
    "def showImage(photo,name):\n",
    "    cv2.imshow(name,photo)\n",
    "    cv2.waitKey()\n",
    "    cv2.destroyAllWindows()\n",
    "    "
   ]
  },
  {
   "cell_type": "code",
   "execution_count": 3,
   "id": "5ba8a6a4",
   "metadata": {},
   "outputs": [],
   "source": [
    "img = arr.zeros((500,500,3))\n",
    "cv2.circle(img,(250,70),50,[255,0,0],5)\n",
    "cv2.rectangle(img,(240,120),(265,145),[255,0,0],5)\n",
    "cv2.rectangle(img,(185,145),(320,270),[255,0,0],5)\n",
    "cv2.line(img,(185,210),(110,100),[255,0,0],5)\n",
    "cv2.line(img,(320,210),(350,320),[255,0,0],5)\n",
    "cv2.circle(img,(100,80),20,[255,0,0],5)\n",
    "cv2.rectangle(img,(210,270),(225,380),[255,0,0],5)\n",
    "cv2.rectangle(img,(280,270),(295,380),[255,0,0],5)\n",
    "cv2.rectangle(img,(225,380),(195,395),[255,0,0],5)\n",
    "cv2.rectangle(img,(280,380),(310,395),[255,0,0],5)\n",
    "font = cv2.FONT_HERSHEY_SIMPLEX\n",
    "cv2.putText(img, 'Hello Human ! I am built using Python.', (17, 470),\n",
    "            font, 0.75, (0, 255, 0), 2, cv2.LINE_AA)\n",
    "showImage(img,\"2D Human\")\n"
   ]
  },
  {
   "cell_type": "code",
   "execution_count": null,
   "id": "c3cc38ad",
   "metadata": {},
   "outputs": [],
   "source": []
  }
 ],
 "metadata": {
  "kernelspec": {
   "display_name": "Python 3",
   "language": "python",
   "name": "python3"
  },
  "language_info": {
   "codemirror_mode": {
    "name": "ipython",
    "version": 3
   },
   "file_extension": ".py",
   "mimetype": "text/x-python",
   "name": "python",
   "nbconvert_exporter": "python",
   "pygments_lexer": "ipython3",
   "version": "3.8.8"
  }
 },
 "nbformat": 4,
 "nbformat_minor": 5
}
