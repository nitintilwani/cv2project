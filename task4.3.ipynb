{
 "cells": [
  {
   "cell_type": "code",
   "execution_count": 1,
   "id": "7ecabc1e",
   "metadata": {},
   "outputs": [],
   "source": [
    "import cv2"
   ]
  },
  {
   "cell_type": "code",
   "execution_count": 2,
   "id": "7771efed",
   "metadata": {},
   "outputs": [],
   "source": [
    "import numpy as arr"
   ]
  },
  {
   "cell_type": "code",
   "execution_count": 3,
   "id": "fb1751ac",
   "metadata": {},
   "outputs": [],
   "source": [
    "def showImage(photo,name):\n",
    "    cv2.imshow(name,photo)\n",
    "    cv2.waitKey()\n",
    "    cv2.destroyAllWindows()"
   ]
  },
  {
   "cell_type": "code",
   "execution_count": 4,
   "id": "f3515283",
   "metadata": {},
   "outputs": [],
   "source": [
    "img1 = cv2.imread('img1.png')\n",
    "img2 = cv2.imread('img2.png')\n",
    "img2=cv2.resize(img2,(699,772))\n",
    "showImage(img1,\"test1\")\n",
    "showImage(img2,\"test2\")"
   ]
  },
  {
   "cell_type": "code",
   "execution_count": 5,
   "id": "2bbb3ab7",
   "metadata": {},
   "outputs": [],
   "source": [
    "img = cv2.hconcat([img1,img2])\n",
    "showImage(img,'result')"
   ]
  },
  {
   "cell_type": "code",
   "execution_count": null,
   "id": "5e6a75bb",
   "metadata": {},
   "outputs": [],
   "source": []
  }
 ],
 "metadata": {
  "kernelspec": {
   "display_name": "Python 3",
   "language": "python",
   "name": "python3"
  },
  "language_info": {
   "codemirror_mode": {
    "name": "ipython",
    "version": 3
   },
   "file_extension": ".py",
   "mimetype": "text/x-python",
   "name": "python",
   "nbconvert_exporter": "python",
   "pygments_lexer": "ipython3",
   "version": "3.8.8"
  }
 },
 "nbformat": 4,
 "nbformat_minor": 5
}
