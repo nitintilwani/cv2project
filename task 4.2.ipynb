{
 "cells": [
  {
   "cell_type": "code",
   "execution_count": 1,
   "id": "e4572ee1",
   "metadata": {},
   "outputs": [],
   "source": [
    "import cv2\n",
    "import numpy as arr"
   ]
  },
  {
   "cell_type": "code",
   "execution_count": 2,
   "id": "25aac962",
   "metadata": {},
   "outputs": [],
   "source": [
    "def showImage(photo,name):\n",
    "    cv2.imshow(name,photo)\n",
    "    cv2.waitKey()\n",
    "    cv2.destroyAllWindows()"
   ]
  },
  {
   "cell_type": "code",
   "execution_count": 3,
   "id": "069d78e7",
   "metadata": {},
   "outputs": [],
   "source": [
    "swap1 = cv2.imread('swap1.png')\n",
    "swap2 = cv2.imread('swap2.png')"
   ]
  },
  {
   "cell_type": "code",
   "execution_count": 4,
   "id": "b2877875",
   "metadata": {},
   "outputs": [],
   "source": [
    "showImage(swap1,\"1\")\n",
    "showImage(swap2,\"2\")"
   ]
  },
  {
   "cell_type": "code",
   "execution_count": 5,
   "id": "c4da2bc7",
   "metadata": {},
   "outputs": [],
   "source": [
    "img1 = cv2.imread('swap1.png')\n",
    "img2 = cv2.imread('swap2.png')"
   ]
  },
  {
   "cell_type": "code",
   "execution_count": 6,
   "id": "0b499532",
   "metadata": {},
   "outputs": [],
   "source": [
    "img1[132:176,217:418] = swap2[147:191,205:406]\n",
    "img2[147:191,205:406] = swap1[132:176,217:418]"
   ]
  },
  {
   "cell_type": "code",
   "execution_count": 7,
   "id": "8ff2f900",
   "metadata": {},
   "outputs": [],
   "source": [
    "showImage(img1,\"1\")\n",
    "showImage(img2,\"2\")"
   ]
  },
  {
   "cell_type": "code",
   "execution_count": null,
   "id": "3ef0d99d",
   "metadata": {},
   "outputs": [],
   "source": []
  }
 ],
 "metadata": {
  "kernelspec": {
   "display_name": "Python 3",
   "language": "python",
   "name": "python3"
  },
  "language_info": {
   "codemirror_mode": {
    "name": "ipython",
    "version": 3
   },
   "file_extension": ".py",
   "mimetype": "text/x-python",
   "name": "python",
   "nbconvert_exporter": "python",
   "pygments_lexer": "ipython3",
   "version": "3.8.8"
  }
 },
 "nbformat": 4,
 "nbformat_minor": 5
}
